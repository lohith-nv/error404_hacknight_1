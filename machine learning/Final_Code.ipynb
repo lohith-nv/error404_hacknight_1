{
 "cells": [
  {
   "cell_type": "code",
   "execution_count": 1,
   "metadata": {},
   "outputs": [],
   "source": [
    "import pandas as pd\n",
    "import numpy as np\n",
    "from sklearn.preprocessing import LabelEncoder, OneHotEncoder, MinMaxScaler\n",
    "from sklearn.preprocessing import StandardScaler\n",
    "from sklearn.ensemble import RandomForestClassifier\n",
    "from sklearn.metrics import confusion_matrix \n",
    "from sklearn.metrics import accuracy_score\n",
    "import re\n",
    "from sklearn.preprocessing import LabelEncoder\n",
    "from sklearn.ensemble import ExtraTreesClassifier\n",
    "import pickle\n",
    "from sklearn.externals import joblib\n",
    "import os"
   ]
  },
  {
   "cell_type": "code",
   "execution_count": 2,
   "metadata": {},
   "outputs": [],
   "source": [
    "train = pd.read_csv('trainms.csv') \n",
    "test = pd.read_csv('testms.csv')"
   ]
  },
  {
   "cell_type": "code",
   "execution_count": 3,
   "metadata": {},
   "outputs": [],
   "source": [
    "test['treatment'] = pd.Series(['Yes']*259)"
   ]
  },
  {
   "cell_type": "code",
   "execution_count": 4,
   "metadata": {},
   "outputs": [
    {
     "name": "stderr",
     "output_type": "stream",
     "text": [
      "C:\\Users\\Hp\\Anaconda3\\lib\\site-packages\\ipykernel_launcher.py:1: FutureWarning: Sorting because non-concatenation axis is not aligned. A future version\n",
      "of pandas will change to not sort by default.\n",
      "\n",
      "To accept the future behavior, pass 'sort=False'.\n",
      "\n",
      "To retain the current behavior and silence the warning, pass 'sort=True'.\n",
      "\n",
      "  \"\"\"Entry point for launching an IPython kernel.\n"
     ]
    }
   ],
   "source": [
    "train = pd.concat([train, test])"
   ]
  },
  {
   "cell_type": "code",
   "execution_count": 5,
   "metadata": {},
   "outputs": [
    {
     "data": {
      "text/plain": [
       "(1259, 28)"
      ]
     },
     "execution_count": 5,
     "metadata": {},
     "output_type": "execute_result"
    }
   ],
   "source": [
    "train.shape"
   ]
  },
  {
   "cell_type": "code",
   "execution_count": 6,
   "metadata": {},
   "outputs": [
    {
     "data": {
      "text/html": [
       "<div>\n",
       "<style scoped>\n",
       "    .dataframe tbody tr th:only-of-type {\n",
       "        vertical-align: middle;\n",
       "    }\n",
       "\n",
       "    .dataframe tbody tr th {\n",
       "        vertical-align: top;\n",
       "    }\n",
       "\n",
       "    .dataframe thead th {\n",
       "        text-align: right;\n",
       "    }\n",
       "</style>\n",
       "<table border=\"1\" class=\"dataframe\">\n",
       "  <thead>\n",
       "    <tr style=\"text-align: right;\">\n",
       "      <th></th>\n",
       "      <th>Age</th>\n",
       "      <th>Country</th>\n",
       "      <th>Gender</th>\n",
       "      <th>Timestamp</th>\n",
       "      <th>anonymity</th>\n",
       "      <th>benefits</th>\n",
       "      <th>care_options</th>\n",
       "      <th>comments</th>\n",
       "      <th>coworkers</th>\n",
       "      <th>family_history</th>\n",
       "      <th>...</th>\n",
       "      <th>remote_work</th>\n",
       "      <th>s.no</th>\n",
       "      <th>seek_help</th>\n",
       "      <th>self_employed</th>\n",
       "      <th>state</th>\n",
       "      <th>supervisor</th>\n",
       "      <th>tech_company</th>\n",
       "      <th>treatment</th>\n",
       "      <th>wellness_program</th>\n",
       "      <th>work_interfere</th>\n",
       "    </tr>\n",
       "  </thead>\n",
       "  <tbody>\n",
       "    <tr>\n",
       "      <th>0</th>\n",
       "      <td>37</td>\n",
       "      <td>United States</td>\n",
       "      <td>Female</td>\n",
       "      <td>2014-08-27 11:29:31</td>\n",
       "      <td>Yes</td>\n",
       "      <td>Yes</td>\n",
       "      <td>Not sure</td>\n",
       "      <td>NaN</td>\n",
       "      <td>Some of them</td>\n",
       "      <td>No</td>\n",
       "      <td>...</td>\n",
       "      <td>No</td>\n",
       "      <td>1</td>\n",
       "      <td>Yes</td>\n",
       "      <td>NaN</td>\n",
       "      <td>IL</td>\n",
       "      <td>Yes</td>\n",
       "      <td>Yes</td>\n",
       "      <td>Yes</td>\n",
       "      <td>No</td>\n",
       "      <td>Often</td>\n",
       "    </tr>\n",
       "    <tr>\n",
       "      <th>1</th>\n",
       "      <td>44</td>\n",
       "      <td>United States</td>\n",
       "      <td>M</td>\n",
       "      <td>2014-08-27 11:29:37</td>\n",
       "      <td>Don't know</td>\n",
       "      <td>Don't know</td>\n",
       "      <td>No</td>\n",
       "      <td>NaN</td>\n",
       "      <td>No</td>\n",
       "      <td>No</td>\n",
       "      <td>...</td>\n",
       "      <td>No</td>\n",
       "      <td>2</td>\n",
       "      <td>Don't know</td>\n",
       "      <td>NaN</td>\n",
       "      <td>IN</td>\n",
       "      <td>No</td>\n",
       "      <td>No</td>\n",
       "      <td>No</td>\n",
       "      <td>Don't know</td>\n",
       "      <td>Rarely</td>\n",
       "    </tr>\n",
       "    <tr>\n",
       "      <th>2</th>\n",
       "      <td>32</td>\n",
       "      <td>Canada</td>\n",
       "      <td>Male</td>\n",
       "      <td>2014-08-27 11:29:44</td>\n",
       "      <td>Don't know</td>\n",
       "      <td>No</td>\n",
       "      <td>No</td>\n",
       "      <td>NaN</td>\n",
       "      <td>Yes</td>\n",
       "      <td>No</td>\n",
       "      <td>...</td>\n",
       "      <td>No</td>\n",
       "      <td>3</td>\n",
       "      <td>No</td>\n",
       "      <td>NaN</td>\n",
       "      <td>NaN</td>\n",
       "      <td>Yes</td>\n",
       "      <td>Yes</td>\n",
       "      <td>No</td>\n",
       "      <td>No</td>\n",
       "      <td>Rarely</td>\n",
       "    </tr>\n",
       "    <tr>\n",
       "      <th>3</th>\n",
       "      <td>31</td>\n",
       "      <td>United Kingdom</td>\n",
       "      <td>Male</td>\n",
       "      <td>2014-08-27 11:29:46</td>\n",
       "      <td>No</td>\n",
       "      <td>No</td>\n",
       "      <td>Yes</td>\n",
       "      <td>NaN</td>\n",
       "      <td>Some of them</td>\n",
       "      <td>Yes</td>\n",
       "      <td>...</td>\n",
       "      <td>No</td>\n",
       "      <td>4</td>\n",
       "      <td>No</td>\n",
       "      <td>NaN</td>\n",
       "      <td>NaN</td>\n",
       "      <td>No</td>\n",
       "      <td>Yes</td>\n",
       "      <td>Yes</td>\n",
       "      <td>No</td>\n",
       "      <td>Often</td>\n",
       "    </tr>\n",
       "    <tr>\n",
       "      <th>4</th>\n",
       "      <td>31</td>\n",
       "      <td>United States</td>\n",
       "      <td>Male</td>\n",
       "      <td>2014-08-27 11:30:22</td>\n",
       "      <td>Don't know</td>\n",
       "      <td>Yes</td>\n",
       "      <td>No</td>\n",
       "      <td>NaN</td>\n",
       "      <td>Some of them</td>\n",
       "      <td>No</td>\n",
       "      <td>...</td>\n",
       "      <td>Yes</td>\n",
       "      <td>5</td>\n",
       "      <td>Don't know</td>\n",
       "      <td>NaN</td>\n",
       "      <td>TX</td>\n",
       "      <td>Yes</td>\n",
       "      <td>Yes</td>\n",
       "      <td>No</td>\n",
       "      <td>Don't know</td>\n",
       "      <td>Never</td>\n",
       "    </tr>\n",
       "  </tbody>\n",
       "</table>\n",
       "<p>5 rows × 28 columns</p>\n",
       "</div>"
      ],
      "text/plain": [
       "   Age         Country  Gender            Timestamp   anonymity    benefits  \\\n",
       "0   37   United States  Female  2014-08-27 11:29:31         Yes         Yes   \n",
       "1   44   United States       M  2014-08-27 11:29:37  Don't know  Don't know   \n",
       "2   32          Canada    Male  2014-08-27 11:29:44  Don't know          No   \n",
       "3   31  United Kingdom    Male  2014-08-27 11:29:46          No          No   \n",
       "4   31   United States    Male  2014-08-27 11:30:22  Don't know         Yes   \n",
       "\n",
       "  care_options comments     coworkers family_history  ... remote_work s.no  \\\n",
       "0     Not sure      NaN  Some of them             No  ...          No    1   \n",
       "1           No      NaN            No             No  ...          No    2   \n",
       "2           No      NaN           Yes             No  ...          No    3   \n",
       "3          Yes      NaN  Some of them            Yes  ...          No    4   \n",
       "4           No      NaN  Some of them             No  ...         Yes    5   \n",
       "\n",
       "    seek_help self_employed state supervisor tech_company treatment  \\\n",
       "0         Yes           NaN    IL        Yes          Yes       Yes   \n",
       "1  Don't know           NaN    IN         No           No        No   \n",
       "2          No           NaN   NaN        Yes          Yes        No   \n",
       "3          No           NaN   NaN         No          Yes       Yes   \n",
       "4  Don't know           NaN    TX        Yes          Yes        No   \n",
       "\n",
       "  wellness_program  work_interfere  \n",
       "0               No           Often  \n",
       "1       Don't know          Rarely  \n",
       "2               No          Rarely  \n",
       "3               No           Often  \n",
       "4       Don't know           Never  \n",
       "\n",
       "[5 rows x 28 columns]"
      ]
     },
     "execution_count": 6,
     "metadata": {},
     "output_type": "execute_result"
    }
   ],
   "source": [
    "train.head()"
   ]
  },
  {
   "cell_type": "code",
   "execution_count": 7,
   "metadata": {},
   "outputs": [
    {
     "data": {
      "text/plain": [
       "Age                             0\n",
       "Country                         0\n",
       "Gender                          0\n",
       "Timestamp                       0\n",
       "anonymity                       0\n",
       "benefits                        0\n",
       "care_options                    0\n",
       "comments                     1095\n",
       "coworkers                       0\n",
       "family_history                  0\n",
       "leave                           0\n",
       "mental_health_consequence       0\n",
       "mental_health_interview         0\n",
       "mental_vs_physical              0\n",
       "no_employees                    0\n",
       "obs_consequence                 0\n",
       "phys_health_consequence         0\n",
       "phys_health_interview           0\n",
       "remote_work                     0\n",
       "s.no                            0\n",
       "seek_help                       0\n",
       "self_employed                  18\n",
       "state                         515\n",
       "supervisor                      0\n",
       "tech_company                    0\n",
       "treatment                       0\n",
       "wellness_program                0\n",
       "work_interfere                264\n",
       "dtype: int64"
      ]
     },
     "execution_count": 7,
     "metadata": {},
     "output_type": "execute_result"
    }
   ],
   "source": [
    "train.isnull().sum()"
   ]
  },
  {
   "cell_type": "code",
   "execution_count": 8,
   "metadata": {},
   "outputs": [
    {
     "data": {
      "text/plain": [
       "No     1075\n",
       "Yes     184\n",
       "Name: obs_consequence, dtype: int64"
      ]
     },
     "execution_count": 8,
     "metadata": {},
     "output_type": "execute_result"
    }
   ],
   "source": [
    "train['obs_consequence'].value_counts()"
   ]
  },
  {
   "cell_type": "code",
   "execution_count": 9,
   "metadata": {},
   "outputs": [
    {
     "data": {
      "text/plain": [
       "No     1095\n",
       "Yes     146\n",
       "Name: self_employed, dtype: int64"
      ]
     },
     "execution_count": 9,
     "metadata": {},
     "output_type": "execute_result"
    }
   ],
   "source": [
    "train['self_employed'].value_counts()"
   ]
  },
  {
   "cell_type": "code",
   "execution_count": 10,
   "metadata": {},
   "outputs": [
    {
     "data": {
      "text/plain": [
       "Sometimes    465\n",
       "Never        213\n",
       "Rarely       173\n",
       "Often        144\n",
       "Name: work_interfere, dtype: int64"
      ]
     },
     "execution_count": 10,
     "metadata": {},
     "output_type": "execute_result"
    }
   ],
   "source": [
    "train['work_interfere'].value_counts()"
   ]
  },
  {
   "cell_type": "code",
   "execution_count": 11,
   "metadata": {},
   "outputs": [
    {
     "data": {
      "text/plain": [
       "6-25              290\n",
       "26-100            289\n",
       "More than 1000    282\n",
       "100-500           176\n",
       "1-5               162\n",
       "500-1000           60\n",
       "Name: no_employees, dtype: int64"
      ]
     },
     "execution_count": 11,
     "metadata": {},
     "output_type": "execute_result"
    }
   ],
   "source": [
    "train['no_employees'].value_counts()"
   ]
  },
  {
   "cell_type": "code",
   "execution_count": 12,
   "metadata": {},
   "outputs": [],
   "source": [
    "train.drop(['comments'], axis=1, inplace=True)"
   ]
  },
  {
   "cell_type": "code",
   "execution_count": 13,
   "metadata": {},
   "outputs": [],
   "source": [
    "train['self_employed'] = train['self_employed'].fillna('No')"
   ]
  },
  {
   "cell_type": "code",
   "execution_count": 14,
   "metadata": {},
   "outputs": [],
   "source": [
    "train['work_interfere'] = train['work_interfere'].fillna('U')"
   ]
  },
  {
   "cell_type": "code",
   "execution_count": 15,
   "metadata": {},
   "outputs": [
    {
     "name": "stdout",
     "output_type": "stream",
     "text": [
      "\n"
     ]
    }
   ],
   "source": [
    "train['region'] = train['state']\n",
    "train['region'] = train['region'].fillna(\"West\")\n",
    "\n",
    "west = [\"WA\", \"OR\", \"CA\", \"NV\", \"ID\", \"MT\", \"WY\", \"UT\", \"AZ\", \"NM\", \"CO\"]\n",
    "midwest = [\"ND\", \"SD\", \"NE\", \"KS\", \"MN\", \"IA\", \"MO\", \"WI\", \"IL\", \"IN\", \"OH\", \"MI\"]\n",
    "northeast = [\"ME\",  \"NH\", \"VT\", \"MA\", \"CT\", \"RI\", \"NY\", \"PA\", \"NJ\"]\n",
    "south = [\"MD\", \"DE\", \"DC\", \"WV\",  \"VA\", \"NC\",\"SC\", \"GA\", \"FL\", \"KY\", \"TN\", \"AL\", \"MS\", \"AR\", \"LA\", \"OK\", \"TX\"]\n",
    "\n",
    "train['region'] = train['region'].apply(lambda x:\"West\" if x in west else x)\n",
    "train['region'] = train['region'].apply(lambda x:\"Midwest\" if x in midwest else x)\n",
    "train['region'] = train['region'].apply(lambda x:\"Northeast\" if x in northeast else x)\n",
    "train['region'] = train['region'].apply(lambda x:\"South\" if x in south else x)"
   ]
  },
  {
   "cell_type": "code",
   "execution_count": 16,
   "metadata": {},
   "outputs": [],
   "source": [
    "train.drop(['state'], axis=1, inplace=True)"
   ]
  },
  {
   "cell_type": "code",
   "execution_count": 17,
   "metadata": {},
   "outputs": [],
   "source": [
    "train.drop(['Timestamp'], axis=1, inplace=True)"
   ]
  },
  {
   "cell_type": "code",
   "execution_count": 18,
   "metadata": {},
   "outputs": [],
   "source": [
    "train.drop(['s.no'], axis=1, inplace=True)"
   ]
  },
  {
   "cell_type": "code",
   "execution_count": 19,
   "metadata": {},
   "outputs": [
    {
     "data": {
      "text/html": [
       "<div>\n",
       "<style scoped>\n",
       "    .dataframe tbody tr th:only-of-type {\n",
       "        vertical-align: middle;\n",
       "    }\n",
       "\n",
       "    .dataframe tbody tr th {\n",
       "        vertical-align: top;\n",
       "    }\n",
       "\n",
       "    .dataframe thead th {\n",
       "        text-align: right;\n",
       "    }\n",
       "</style>\n",
       "<table border=\"1\" class=\"dataframe\">\n",
       "  <thead>\n",
       "    <tr style=\"text-align: right;\">\n",
       "      <th></th>\n",
       "      <th>Age</th>\n",
       "      <th>Country</th>\n",
       "      <th>Gender</th>\n",
       "      <th>anonymity</th>\n",
       "      <th>benefits</th>\n",
       "      <th>care_options</th>\n",
       "      <th>coworkers</th>\n",
       "      <th>family_history</th>\n",
       "      <th>leave</th>\n",
       "      <th>mental_health_consequence</th>\n",
       "      <th>...</th>\n",
       "      <th>phys_health_consequence</th>\n",
       "      <th>phys_health_interview</th>\n",
       "      <th>remote_work</th>\n",
       "      <th>seek_help</th>\n",
       "      <th>self_employed</th>\n",
       "      <th>supervisor</th>\n",
       "      <th>tech_company</th>\n",
       "      <th>treatment</th>\n",
       "      <th>wellness_program</th>\n",
       "      <th>work_interfere</th>\n",
       "    </tr>\n",
       "  </thead>\n",
       "  <tbody>\n",
       "    <tr>\n",
       "      <th>0</th>\n",
       "      <td>37</td>\n",
       "      <td>United States</td>\n",
       "      <td>Female</td>\n",
       "      <td>Yes</td>\n",
       "      <td>Yes</td>\n",
       "      <td>Not sure</td>\n",
       "      <td>Some of them</td>\n",
       "      <td>No</td>\n",
       "      <td>Somewhat easy</td>\n",
       "      <td>No</td>\n",
       "      <td>...</td>\n",
       "      <td>No</td>\n",
       "      <td>Maybe</td>\n",
       "      <td>No</td>\n",
       "      <td>Yes</td>\n",
       "      <td>No</td>\n",
       "      <td>Yes</td>\n",
       "      <td>Yes</td>\n",
       "      <td>Yes</td>\n",
       "      <td>No</td>\n",
       "      <td>Often</td>\n",
       "    </tr>\n",
       "    <tr>\n",
       "      <th>1</th>\n",
       "      <td>44</td>\n",
       "      <td>United States</td>\n",
       "      <td>M</td>\n",
       "      <td>Don't know</td>\n",
       "      <td>Don't know</td>\n",
       "      <td>No</td>\n",
       "      <td>No</td>\n",
       "      <td>No</td>\n",
       "      <td>Don't know</td>\n",
       "      <td>Maybe</td>\n",
       "      <td>...</td>\n",
       "      <td>No</td>\n",
       "      <td>No</td>\n",
       "      <td>No</td>\n",
       "      <td>Don't know</td>\n",
       "      <td>No</td>\n",
       "      <td>No</td>\n",
       "      <td>No</td>\n",
       "      <td>No</td>\n",
       "      <td>Don't know</td>\n",
       "      <td>Rarely</td>\n",
       "    </tr>\n",
       "    <tr>\n",
       "      <th>2</th>\n",
       "      <td>32</td>\n",
       "      <td>Canada</td>\n",
       "      <td>Male</td>\n",
       "      <td>Don't know</td>\n",
       "      <td>No</td>\n",
       "      <td>No</td>\n",
       "      <td>Yes</td>\n",
       "      <td>No</td>\n",
       "      <td>Somewhat difficult</td>\n",
       "      <td>No</td>\n",
       "      <td>...</td>\n",
       "      <td>No</td>\n",
       "      <td>Yes</td>\n",
       "      <td>No</td>\n",
       "      <td>No</td>\n",
       "      <td>No</td>\n",
       "      <td>Yes</td>\n",
       "      <td>Yes</td>\n",
       "      <td>No</td>\n",
       "      <td>No</td>\n",
       "      <td>Rarely</td>\n",
       "    </tr>\n",
       "    <tr>\n",
       "      <th>3</th>\n",
       "      <td>31</td>\n",
       "      <td>United Kingdom</td>\n",
       "      <td>Male</td>\n",
       "      <td>No</td>\n",
       "      <td>No</td>\n",
       "      <td>Yes</td>\n",
       "      <td>Some of them</td>\n",
       "      <td>Yes</td>\n",
       "      <td>Somewhat difficult</td>\n",
       "      <td>Yes</td>\n",
       "      <td>...</td>\n",
       "      <td>Yes</td>\n",
       "      <td>Maybe</td>\n",
       "      <td>No</td>\n",
       "      <td>No</td>\n",
       "      <td>No</td>\n",
       "      <td>No</td>\n",
       "      <td>Yes</td>\n",
       "      <td>Yes</td>\n",
       "      <td>No</td>\n",
       "      <td>Often</td>\n",
       "    </tr>\n",
       "    <tr>\n",
       "      <th>4</th>\n",
       "      <td>31</td>\n",
       "      <td>United States</td>\n",
       "      <td>Male</td>\n",
       "      <td>Don't know</td>\n",
       "      <td>Yes</td>\n",
       "      <td>No</td>\n",
       "      <td>Some of them</td>\n",
       "      <td>No</td>\n",
       "      <td>Don't know</td>\n",
       "      <td>No</td>\n",
       "      <td>...</td>\n",
       "      <td>No</td>\n",
       "      <td>Yes</td>\n",
       "      <td>Yes</td>\n",
       "      <td>Don't know</td>\n",
       "      <td>No</td>\n",
       "      <td>Yes</td>\n",
       "      <td>Yes</td>\n",
       "      <td>No</td>\n",
       "      <td>Don't know</td>\n",
       "      <td>Never</td>\n",
       "    </tr>\n",
       "  </tbody>\n",
       "</table>\n",
       "<p>5 rows × 24 columns</p>\n",
       "</div>"
      ],
      "text/plain": [
       "   Age         Country  Gender   anonymity    benefits care_options  \\\n",
       "0   37   United States  Female         Yes         Yes     Not sure   \n",
       "1   44   United States       M  Don't know  Don't know           No   \n",
       "2   32          Canada    Male  Don't know          No           No   \n",
       "3   31  United Kingdom    Male          No          No          Yes   \n",
       "4   31   United States    Male  Don't know         Yes           No   \n",
       "\n",
       "      coworkers family_history               leave mental_health_consequence  \\\n",
       "0  Some of them             No       Somewhat easy                        No   \n",
       "1            No             No          Don't know                     Maybe   \n",
       "2           Yes             No  Somewhat difficult                        No   \n",
       "3  Some of them            Yes  Somewhat difficult                       Yes   \n",
       "4  Some of them             No          Don't know                        No   \n",
       "\n",
       "   ... phys_health_consequence phys_health_interview remote_work   seek_help  \\\n",
       "0  ...                      No                 Maybe          No         Yes   \n",
       "1  ...                      No                    No          No  Don't know   \n",
       "2  ...                      No                   Yes          No          No   \n",
       "3  ...                     Yes                 Maybe          No          No   \n",
       "4  ...                      No                   Yes         Yes  Don't know   \n",
       "\n",
       "  self_employed supervisor tech_company treatment wellness_program  \\\n",
       "0            No        Yes          Yes       Yes               No   \n",
       "1            No         No           No        No       Don't know   \n",
       "2            No        Yes          Yes        No               No   \n",
       "3            No         No          Yes       Yes               No   \n",
       "4            No        Yes          Yes        No       Don't know   \n",
       "\n",
       "  work_interfere  \n",
       "0          Often  \n",
       "1         Rarely  \n",
       "2         Rarely  \n",
       "3          Often  \n",
       "4          Never  \n",
       "\n",
       "[5 rows x 24 columns]"
      ]
     },
     "execution_count": 19,
     "metadata": {},
     "output_type": "execute_result"
    }
   ],
   "source": [
    "train.head()"
   ]
  },
  {
   "cell_type": "code",
   "execution_count": 20,
   "metadata": {},
   "outputs": [
    {
     "name": "stdout",
     "output_type": "stream",
     "text": [
      "['Female', 'Female', 'Female', 'female', 'female', 'Female', 'female', 'Female', 'Female', 'Female', 'Female', 'Trans-female', 'Cis Female', 'female', 'F', 'F', 'female', 'Female', 'Female', 'Female', 'Female', 'F', 'F', 'Woman', 'Female', 'Female', 'Female', 'F', 'f', 'Female', 'Female', 'Female', 'female', 'Female', 'Female', 'female', 'Female', 'F', 'f', 'female', 'F', 'female', 'F', 'Female', 'f', 'Female', 'Female', 'Female', 'female', 'Female', 'Female', 'Female', 'Female', 'F', 'Female', 'f', 'female', 'F', 'f', 'Female', 'female', 'Female', 'F', 'f', 'F', 'Female', 'Femake', 'F', 'F', 'F', 'female', 'Female', 'woman', 'F', 'female', 'female', 'Female', 'female', 'female', 'female', 'female', 'female', 'Female', 'F', 'fluid', 'Female', 'Female', 'Female', 'F', 'female', 'female', 'female', 'F', 'Female ', 'Female', 'f', 'Female', 'female', 'Female', 'Female', 'Female', 'Female', 'female', 'female', 'Female', 'Female', 'f', 'Female', 'F', 'Female', 'Female', 'female', 'Female', 'Female', 'F', 'Female', 'female', 'female', 'Woman', 'female', 'Female', 'Female', 'Female', 'Female', 'Female', 'f', 'Female', 'cis-female/femme', 'Female', 'female', 'Female', 'Female', 'Female', 'female', 'Female', 'female', 'F', 'Female', 'Female', 'F', 'female', 'Female', 'Trans woman', 'female', 'Female', 'Female', 'female', 'f', 'Female', 'F', 'F', 'Female', 'f', 'Female', 'Female', 'Female', 'F', 'Female', 'Female', 'female', 'Female', 'Female', 'Female', 'female', 'Female', 'Female (trans)', 'female', 'f', 'F', 'Female', 'Female', 'Female (cis)', 'female', 'F', 'female', 'F', 'Female', 'Female', 'Female', 'f', 'female', 'Female', 'Female', 'F', 'Female', 'F', 'Female ', 'Female', 'female', 'Female', 'female', 'Female', 'Female', 'Female', 'female', 'F', 'female', 'Female', 'Female', 'F', 'Female (trans)', 'Female', 'female', 'female', 'Female', 'Female', 'female', 'f', 'Female', 'female', 'Female', 'Female', 'Female', 'Female', 'Female', 'female', 'Female', 'female', 'Female', 'Female', 'Female', 'female', 'Female', 'female', 'female', 'F', 'F', 'female', 'F', 'Female', 'Female', 'Female', 'F', 'Female', 'female', 'Woman', 'Female', 'female', 'F', 'femail', 'female', 'Female', 'female', 'Female', 'Female', 'Female', 'female', 'female', 'Female', 'Female', 'f', 'female', 'Female', 'f']\n"
     ]
    }
   ],
   "source": [
    "print([w for w in train['Gender'] if re.search('^((.*(F|f)(ema..)?.*)|(.*(W|w)(oman).*))$', w)])"
   ]
  },
  {
   "cell_type": "code",
   "execution_count": 21,
   "metadata": {},
   "outputs": [],
   "source": [
    "#train['Gender'] = train['Gender'].map(lambda w: 1 if re.search('^((.*(F|f)(emale)?.*)|(.*(W|w)(oman).*))$', w) else 0)\n",
    "\n",
    "male = [\"m\", \"male-ish\", \"maile\", \"mal\", \"male (cis)\", \"make\", \"male \", \"man\",\"msle\", \"mail\", \"malr\",\"cis man\", \"Cis Male\", \"cis male\"]\n",
    "trans = [\"trans-female\", \"something kinda male?\", \"queer/she/they\", \"non-binary\",\"nah\", \"all\", \"enby\", \"fluid\", \"genderqueer\", \"androgyne\", \"agender\", \"male leaning androgynous\", \"guy (-ish) ^_^\", \"trans woman\", \"neuter\", \"female (trans)\", \"queer\", \"ostensibly male, unsure what that really means\"]           \n",
    "female = [\"cis female\", \"f\", \"female\", \"woman\",  \"femake\", \"female \",\"cis-female/femme\", \"female (cis)\", \"femail\"]\n",
    "\n",
    "train['Gender'] = train['Gender'].apply(lambda x:\"male\" if x in male else x)\n",
    "train['Gender'] = train['Gender'].apply(lambda x:\"trans\" if x in trans else x)\n",
    "train['Gender'] = train['Gender'].apply(lambda x:\"female\" if x in female else x)"
   ]
  },
  {
   "cell_type": "code",
   "execution_count": 22,
   "metadata": {},
   "outputs": [
    {
     "name": "stdout",
     "output_type": "stream",
     "text": [
      "\n"
     ]
    }
   ],
   "source": [
    "train['leave'].replace(['Very easy', 'Somewhat easy', \"Don\\'t know\", 'Somewhat difficult', 'Very difficult'], [1, 2, 3, 4, 5],inplace=True) \n",
    "train['work_interfere'].replace(['Never','Rarely','Sometimes','Often'],[1,2,3,4],inplace=True)\n",
    "train.loc[train['no_employees']=='1-5',['no_employees']]=1\n",
    "train.loc[train['no_employees']=='6-25',['no_employees']]=2\n",
    "train.loc[train['no_employees']=='26-100',['no_employees']]=3\n",
    "train.loc[train['no_employees']=='100-500',['no_employees']]=4\n",
    "train.loc[train['no_employees']=='500-1000',['no_employees']]=5\n",
    "train.loc[train['no_employees']=='More than 1000',['no_employees']]=6"
   ]
  },
  {
   "cell_type": "code",
   "execution_count": 23,
   "metadata": {},
   "outputs": [
    {
     "name": "stdout",
     "output_type": "stream",
     "text": [
      "\n"
     ]
    }
   ],
   "source": [
    "s = int(train['Age'].median())\n",
    "train['Age'] = train['Age'].apply(lambda x: s if x<18 or x>120 else x)\n",
    "scaler = MinMaxScaler()\n",
    "train['Age'] = scaler.fit_transform(train[['Age']])"
   ]
  },
  {
   "cell_type": "code",
   "execution_count": 25,
   "metadata": {
    "scrolled": true
   },
   "outputs": [],
   "source": [
    "X = train.drop(['treatment'],axis=1)\n",
    "y = train['treatment']\n",
    "X = pd.get_dummies(X)\n",
    "label_encoder = LabelEncoder()\n",
    "y = label_encoder.fit_transform(y)"
   ]
  },
  {
   "cell_type": "code",
   "execution_count": 26,
   "metadata": {},
   "outputs": [],
   "source": [
    "X_train = X[:1000]\n",
    "y_train = y[:1000]\n",
    "X_test = X[1000:]"
   ]
  },
  {
   "cell_type": "code",
   "execution_count": 27,
   "metadata": {},
   "outputs": [],
   "source": [
    "def random_forest_classifier(features, target):\n",
    "    clf = RandomForestClassifier(n_estimators=100, random_state=921)\n",
    "    clf.fit(features, target)\n",
    "    return clf"
   ]
  },
  {
   "cell_type": "code",
   "execution_count": 28,
   "metadata": {},
   "outputs": [],
   "source": [
    "trained_model = random_forest_classifier(X_train, y_train)\n",
    "predictions = trained_model.predict(X_test)\n",
    "prob = trained_model.predict_proba(X_test)\n",
    "P1 = []\n",
    "for v in prob :\n",
    "    P1.append(v[1])\n",
    "prob = pd.DataFrame({'Probability_1': P1})    "
   ]
  },
  {
   "cell_type": "code",
   "execution_count": 29,
   "metadata": {},
   "outputs": [
    {
     "name": "stdout",
     "output_type": "stream",
     "text": [
      "(259, 2)\n"
     ]
    }
   ],
   "source": [
    "results = pd.DataFrame({'s.no': X_test.index, 'treatment': predictions})\n",
    "results['s.no'] = results['s.no'].map(lambda s: s+1)\n",
    "results['treatment'] = results['treatment'].map(lambda s: 'Yes' if s==1 else 'No')\n",
    "print(results.shape)"
   ]
  },
  {
   "cell_type": "code",
   "execution_count": 30,
   "metadata": {},
   "outputs": [],
   "source": [
    "results.to_csv('solutions.csv', index=False)"
   ]
  }
 ],
 "metadata": {
  "kernelspec": {
   "display_name": "Python 3",
   "language": "python",
   "name": "python3"
  },
  "language_info": {
   "codemirror_mode": {
    "name": "ipython",
    "version": 3
   },
   "file_extension": ".py",
   "mimetype": "text/x-python",
   "name": "python",
   "nbconvert_exporter": "python",
   "pygments_lexer": "ipython3",
   "version": "3.7.3"
  }
 },
 "nbformat": 4,
 "nbformat_minor": 2
}
